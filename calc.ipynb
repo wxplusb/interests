{
 "cells": [
  {
   "cell_type": "code",
   "execution_count": 1,
   "metadata": {},
   "outputs": [],
   "source": [
    "from urllib.error import HTTPError, URLError\n",
    "from urllib.request import urlopen, Request\n",
    "import json\n",
    "\n",
    "def make_request(url, headers=None, data=None):\n",
    "\n",
    "    request = Request(url, headers=headers or {}, data=data)\n",
    "    try:\n",
    "        with urlopen(request, timeout=10) as response:\n",
    "          #   print(response.status)\n",
    "            return response.read(), response\n",
    "    except HTTPError as error:\n",
    "         print(error.status, error.reason)\n",
    "    except URLError as error:\n",
    "         print(error.reason)\n",
    "    except TimeoutError:\n",
    "         print(\"Request timed out\")"
   ]
  },
  {
   "cell_type": "markdown",
   "metadata": {},
   "source": [
    "Specify parameters for loan:\n",
    "- Rate  -  Required. The interest rate (per year).\n",
    "- Nper -   Required. The total number of payment periods (total number of month).\n",
    "- Pv  -  Required. Amount of loan.\n",
    "- Start_period -   Required. The first period in the calculation. Payment periods are numbered beginning with 1.\n",
    "- End_period  -  Required. The last period in the calculation.\n",
    "- Type  -  Required. Type of calculation interests of loan. 'diff' (differentiated) or 'annuity' (annuity)"
   ]
  },
  {
   "cell_type": "code",
   "execution_count": 7,
   "metadata": {},
   "outputs": [
    {
     "data": {
      "text/plain": [
       "{'cum_interest': 237.713}"
      ]
     },
     "execution_count": 7,
     "metadata": {},
     "output_type": "execute_result"
    }
   ],
   "source": [
    "params_loan = {\n",
    "    \"Rate_per_year\": 0.03,\n",
    "    \"Nper\": 5*12,\n",
    "    \"Pv\": 10000,\n",
    "    \"Start_period\": 12,\n",
    "    \"End_period\": 24,\n",
    "    \"Type\": 'annuity'\n",
    "}\n",
    "\n",
    "url = \"http://localhost:8080\"\n",
    "post_data = json.dumps(params_loan).encode(\"utf-8\")\n",
    "\n",
    "body, _ = make_request(\n",
    "    url,\n",
    "    data=post_data,\n",
    "    headers={\"Content-Type\": \"application/json\"},\n",
    ")\n",
    "\n",
    "result = json.loads(body.decode(\"utf-8\"))\n",
    "result"
   ]
  }
 ],
 "metadata": {
  "interpreter": {
   "hash": "78677d11e209187fd0162f485b6968a6d263859ce638ff0b060f2696ee907841"
  },
  "kernelspec": {
   "display_name": "Python 3.9.6 ('dl_env')",
   "language": "python",
   "name": "python3"
  },
  "language_info": {
   "codemirror_mode": {
    "name": "ipython",
    "version": 3
   },
   "file_extension": ".py",
   "mimetype": "text/x-python",
   "name": "python",
   "nbconvert_exporter": "python",
   "pygments_lexer": "ipython3",
   "version": "3.9.6"
  },
  "orig_nbformat": 4
 },
 "nbformat": 4,
 "nbformat_minor": 2
}
